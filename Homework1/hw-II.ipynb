{
 "cells": [
  {
   "cell_type": "code",
   "execution_count": 3,
   "metadata": {},
   "outputs": [],
   "source": [
    "import pandas as pd\n",
    "from scipy.io.arff import loadarff\n",
    "from sklearn.model_selection import train_test_split\n",
    "from sklearn.feature_selection import mutual_info_classif, SelectKBest\n",
    "from sklearn import tree, metrics\n",
    "import matplotlib.pyplot as plt"
   ]
  },
  {
   "cell_type": "code",
   "execution_count": 4,
   "metadata": {},
   "outputs": [],
   "source": [
    "data = loadarff('pd_speech.arff')\n",
    "df = pd.DataFrame(data[0])\n",
    "df['class'] = df['class'].str.decode('utf-8')\n",
    "\n",
    "target = df['class']\n",
    "\n",
    "df = df.drop('class', axis=1)\n",
    "features = df.columns[0:-1]"
   ]
  },
  {
   "cell_type": "code",
   "execution_count": 5,
   "metadata": {},
   "outputs": [],
   "source": [
    "ig = {}\n",
    "for v in features:\n",
    "    ig[v] = mutual_info_classif(df[v].to_numpy().reshape(-1, 1), target, random_state=1)\n",
    "sorted_igs = sorted(ig, key=ig.get, reverse=True)"
   ]
  },
  {
   "cell_type": "code",
   "execution_count": 6,
   "metadata": {},
   "outputs": [
    {
     "name": "stdout",
     "output_type": "stream",
     "text": [
      "[1.0, 1.0, 1.0, 1.0, 1.0, 1.0]\n",
      "[0.78, 0.75, 0.81, 0.81, 0.83, 0.81]\n"
     ]
    }
   ],
   "source": [
    "accuracy_test, accuracy_train = [], []\n",
    "n_features = (5, 10, 40, 100, 250, 700)\n",
    "for i in n_features:\n",
    "    aux = sorted_igs[0:i]\n",
    "    X_train, X_test, y_train, y_test = train_test_split(df[aux], target, test_size = 0.3, random_state=1, stratify=target)\n",
    "\n",
    "    predictor = tree.DecisionTreeClassifier(random_state=1)\n",
    "    predictor.fit(X_train, y_train)\n",
    "\n",
    "    y_pred = predictor.predict(X_train)\n",
    "    accuracy_train += [round(metrics.accuracy_score(y_train, y_pred), 2)]\n",
    "\n",
    "    y_pred = predictor.predict(X_test) \n",
    "    accuracy_test += [round(metrics.accuracy_score(y_test, y_pred), 2)]\n",
    "\n",
    "print(accuracy_train)\n",
    "print(accuracy_test)\n",
    "\n"
   ]
  },
  {
   "cell_type": "code",
   "execution_count": 7,
   "metadata": {},
   "outputs": [
    {
     "data": {
      "text/plain": [
       "<matplotlib.legend.Legend at 0x7fa3a6ea2eb0>"
      ]
     },
     "execution_count": 7,
     "metadata": {},
     "output_type": "execute_result"
    },
    {
     "data": {
      "image/png": "[encoded data removed]",
      "text/plain": [
       "<Figure size 504x504 with 1 Axes>"
      ]
     },
     "metadata": {
      "needs_background": "light"
     },
     "output_type": "display_data"
    }
   ],
   "source": [
    "figure = plt.figure(figsize=(7, 7))\n",
    "plt.title(\"Training and Testing accuracies\")\n",
    "plt.scatter(n_features, accuracy_train, label='Training accuracy')\n",
    "plt.scatter(n_features, accuracy_test, label='Testing accuracy')\n",
    "plt.legend(loc =\"lower right\")"
   ]
  }
 ],
 "metadata": {
  "kernelspec": {
   "display_name": "Python 3.8.6 64-bit",
   "language": "python",
   "name": "python3"
  },
  "language_info": {
   "codemirror_mode": {
    "name": "ipython",
    "version": 3
   },
   "file_extension": ".py",
   "mimetype": "text/x-python",
   "name": "python",
   "nbconvert_exporter": "python",
   "pygments_lexer": "ipython3",
   "version": "3.8.6"
  },
  "orig_nbformat": 4,
  "vscode": {
   "interpreter": {
    "hash": "aee8b7b246df8f9039afb4144a1f6fd8d2ca17a180786b69acc140d282b71a49"
   }
  }
 },
 "nbformat": 4,
 "nbformat_minor": 2
}
