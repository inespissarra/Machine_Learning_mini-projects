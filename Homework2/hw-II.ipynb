{
 "cells": [
  {
   "cell_type": "code",
   "execution_count": 6,
   "metadata": {},
   "outputs": [],
   "source": [
    "import pandas as pd, numpy as np\n",
    "from scipy.stats import norm\n",
    "import math\n",
    "from scipy.io.arff import loadarff\n",
    "from sklearn.feature_selection import SelectKBest #??\n",
    "\n",
    "from sklearn.model_selection import StratifiedKFold\n",
    "from sklearn.naive_bayes import GaussianNB\n",
    "from sklearn.neighbors import KNeighborsClassifier\n",
    "from sklearn import metrics\n",
    "\n",
    "from scipy import stats\n"
   ]
  },
  {
   "cell_type": "code",
   "execution_count": 7,
   "metadata": {},
   "outputs": [],
   "source": [
    "data = loadarff('pd_speech.arff')\n",
    "df = pd.DataFrame(data[0])\n",
    "df['class'] = df['class'].str.decode('utf-8')\n",
    "y = df['class']\n",
    "X = df.drop('class', axis=1)"
   ]
  },
  {
   "cell_type": "code",
   "execution_count": 8,
   "metadata": {},
   "outputs": [
    {
     "name": "stdout",
     "output_type": "stream",
     "text": [
      "kNN Confusion Matrix \n",
      "          Predicted class=0  Predicted class=1\n",
      "class=0                 50                142\n",
      "class=1                 67                497\n",
      "\n",
      "\n",
      " Naïve Bayes Confusion Matrix\n",
      "          Predicted class=0  Predicted class=1\n",
      "class=0                 67                125\n",
      "class=1                 69                495\n"
     ]
    }
   ],
   "source": [
    "cv = StratifiedKFold(n_splits=10, shuffle=True, random_state=0)\n",
    "\n",
    "naive_bayes_classifier = GaussianNB()\n",
    "knn_classifier = KNeighborsClassifier(n_neighbors=5, weights='uniform', metric='euclidean')\n",
    "\n",
    "cm_kNN = [[0, 0], [0, 0]]\n",
    "cm_NB = [[0, 0], [0, 0]]\n",
    "\n",
    "accuracy_kNN = []\n",
    "accuracy_NB = []\n",
    "\n",
    "\n",
    "for train_index, test_index in cv.split(X, y):\n",
    "    X_train, X_test = X.iloc[train_index], X.iloc[test_index]\n",
    "    y_train, y_test = y.iloc[train_index], y.iloc[test_index]\n",
    "\n",
    "    naive_bayes_classifier.fit(X_train, y_train)\n",
    "    y_pred = naive_bayes_classifier.predict(X_test)\n",
    "    cm = metrics.confusion_matrix(y_test, y_pred)\n",
    "    cm_NB = [ (a + b) for a, b in zip(cm_NB, cm) ]\n",
    "\n",
    "    accuracy_NB += [metrics.accuracy_score(y_test, y_pred)]\n",
    "\n",
    "    knn_classifier.fit(X_train, y_train)\n",
    "    y_pred = knn_classifier.predict(X_test)\n",
    "    cm = metrics.confusion_matrix(y_test, y_pred)\n",
    "    cm_kNN = [ (a + b) for a, b in zip(cm_kNN, cm) ]\n",
    "\n",
    "    accuracy_kNN += [metrics.accuracy_score(y_test, y_pred)]\n",
    "\n",
    "confusion_kNN = pd.DataFrame(cm_kNN, index=['class=0', 'class=1'], columns=['Predicted class=0', 'Predicted class=1'])\n",
    "\n",
    "confusion_NB = pd.DataFrame(cm_NB, index=['class=0', 'class=1'], columns=['Predicted class=0', 'Predicted class=1'])\n",
    "\n",
    "print(\"kNN Confusion Matrix \\n\", confusion_kNN)\n",
    "print(\"\\n\\n Naïve Bayes Confusion Matrix\\n\", confusion_NB)\n",
    "\n"
   ]
  },
  {
   "cell_type": "code",
   "execution_count": 9,
   "metadata": {},
   "outputs": [
    {
     "name": "stdout",
     "output_type": "stream",
     "text": [
      "0.9104476998751558\n"
     ]
    }
   ],
   "source": [
    "res = stats.ttest_rel(accuracy_kNN, accuracy_NB, alternative='greater')\n",
    "\n",
    "print(res.pvalue)"
   ]
  },
  {
   "cell_type": "code",
   "execution_count": 12,
   "metadata": {},
   "outputs": [
    {
     "name": "stdout",
     "output_type": "stream",
     "text": [
      "Naïve Bayes Confusion Matrix\n",
      "                Predicted class=0  Predicted class=1\n",
      "Real class=0                 67                125\n",
      "class=1                      69                495\n",
      "\n",
      "\n",
      "kNN Confusion Matrix\n",
      "               Predicted class=0  Predicted class=1\n",
      "Real class=0                 50                142\n",
      "class=1                      67                497\n",
      "0.9104476998751558\n"
     ]
    }
   ],
   "source": [
    "import pandas as pd\n",
    "import math\n",
    "from scipy.io.arff import loadarff\n",
    "from sklearn.feature_selection import SelectKBest\n",
    "from sklearn.model_selection import StratifiedKFold \n",
    "from sklearn.naive_bayes import GaussianNB\n",
    "from sklearn.neighbors import KNeighborsClassifier \n",
    "from sklearn import metrics\n",
    "from scipy import stats\n",
    "data = loadarff('pd_speech.arff')\n",
    "df = pd.DataFrame(data[0])\n",
    "df['class'] = df['class'].str.decode('utf-8')\n",
    "y = df['class']\n",
    "X = df.drop('class', axis=1)\n",
    "cv = StratifiedKFold(n_splits=10, shuffle=True, random_state=0)\n",
    "naive_bayes_classifier = GaussianNB()\n",
    "knn_classifier = KNeighborsClassifier(n_neighbors=5, weights='uniform', metric='euclidean')\n",
    "cm_kNN = [[0, 0], [0, 0]]\n",
    "cm_NB = [[0, 0], [0, 0]]\n",
    "accuracy_kNN = []\n",
    "accuracy_NB = []\n",
    "for train_index, test_index in cv.split(X, y):\n",
    "    X_train, X_test = X.iloc[train_index], X.iloc[test_index] \n",
    "    y_train, y_test = y.iloc[train_index], y.iloc[test_index]\n",
    "    naive_bayes_classifier.fit(X_train, y_train) \n",
    "    y_pred = naive_bayes_classifier.predict(X_test) \n",
    "    cm = metrics.confusion_matrix(y_test, y_pred) \n",
    "    cm_NB = [ (a + b) for a, b in zip(cm_NB, cm) ]\n",
    "    accuracy_NB += [metrics.accuracy_score(y_test, y_pred)]\n",
    "    knn_classifier.fit(X_train, y_train)\n",
    "    y_pred = knn_classifier.predict(X_test)\n",
    "    cm = metrics.confusion_matrix(y_test, y_pred) \n",
    "    cm_kNN = [ (a + b) for a, b in zip(cm_kNN, cm) ]\n",
    "    accuracy_kNN += [metrics.accuracy_score(y_test, y_pred)]\n",
    "confusion_NB = pd.DataFrame(cm_NB, index=['Real class=0', 'class=1'], columns=['Predicted class=0', 'Predicted class=1'])\n",
    "confusion_kNN = pd.DataFrame(cm_kNN, index=['Real class=0', 'class=1'], columns=['Predicted class=0', 'Predicted class=1']) \n",
    "print(\"Naïve Bayes Confusion Matrix\\n \", confusion_NB)\n",
    "print(\"\\n\\nkNN Confusion Matrix\\n\", confusion_kNN)\n",
    "res = stats.ttest_rel(accuracy_kNN, accuracy_NB, alternative='greater') \n",
    "print(res.pvalue)"
   ]
  }
 ],
 "metadata": {
  "kernelspec": {
   "display_name": "Python 3.8.6 64-bit",
   "language": "python",
   "name": "python3"
  },
  "language_info": {
   "codemirror_mode": {
    "name": "ipython",
    "version": 3
   },
   "file_extension": ".py",
   "mimetype": "text/x-python",
   "name": "python",
   "nbconvert_exporter": "python",
   "pygments_lexer": "ipython3",
   "version": "3.8.6"
  },
  "orig_nbformat": 4,
  "vscode": {
   "interpreter": {
    "hash": "aee8b7b246df8f9039afb4144a1f6fd8d2ca17a180786b69acc140d282b71a49"
   }
  }
 },
 "nbformat": 4,
 "nbformat_minor": 2
}
