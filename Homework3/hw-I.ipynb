{
 "cells": [
  {
   "cell_type": "code",
   "execution_count": 2,
   "metadata": {},
   "outputs": [],
   "source": [
    "import numpy as np"
   ]
  },
  {
   "cell_type": "code",
   "execution_count": 3,
   "metadata": {},
   "outputs": [
    {
     "name": "stdout",
     "output_type": "stream",
     "text": [
      "[[ 7.0450759 ]\n",
      " [ 4.64092765]\n",
      " [ 1.96734046]\n",
      " [-1.30088142]]\n"
     ]
    }
   ],
   "source": [
    "a, b, c, d, e = 0.8, 1, 1.2, 1.4, 1.6\n",
    "\n",
    "a1, b1, c1, d1, e1 = [1, a, a**2, a**3], [1, b, b**2, b**3], [1, c, c**2, c**3], [1, d, d**2, d**3], [1, e, e**2, e**3]\n",
    "\n",
    "a2, b2, c2, d2, e2 = 24, 20, 10, 13, 12\n",
    "\n",
    "x = np.array([a1, b1, c1, d1, e1])\n",
    "\n",
    "y = np.array([[a2], [b2], [c2], [d2], [e2]])\n",
    "\n",
    "xx = np.matmul(x.transpose(), x)\n",
    "xxmi = xx + 2*np.identity(4)\n",
    "xi = np.linalg.inv(xxmi)\n",
    "xix = np.matmul(xi, x.transpose())\n",
    "w = np.matmul(xix, y)\n",
    "\n",
    "print(w)"
   ]
  },
  {
   "cell_type": "code",
   "execution_count": 4,
   "metadata": {},
   "outputs": [
    {
     "name": "stdout",
     "output_type": "stream",
     "text": [
      "[6.84329489]\n"
     ]
    }
   ],
   "source": [
    "sum = 0\n",
    "for i in range(5):\n",
    "    sum += (y[i][0] - np.matmul(x[i], w))**2\n",
    "\n",
    "RMSE = (sum/5)**0.5\n",
    "\n",
    "print(RMSE)"
   ]
  },
  {
   "cell_type": "code",
   "execution_count": 6,
   "metadata": {},
   "outputs": [
    {
     "name": "stdout",
     "output_type": "stream",
     "text": [
      "[[3.39443473 3.44280552 3.49215346]]\n",
      "-------\n",
      "w2: \n",
      " [[1.8518485 1.8518485]]\n",
      "-------\n",
      "b2: \n",
      " [[1.7012589]]\n",
      "-------\n",
      "w1: \n",
      " [[1.08062041]\n",
      " [1.08062041]]\n",
      "-------\n",
      "b1: \n",
      " [[1.08518485]\n",
      " [1.08518485]]\n"
     ]
    }
   ],
   "source": [
    "w1 = np.array([[1], [1]])\n",
    "x0 = np.array([[0.8, 1, 1.2]])\n",
    "b1 = np.array([[1], [1]])\n",
    "\n",
    "z1 = np.matmul(w1, x0) + b1\n",
    "x1 = np.exp(0.1 * z1)\n",
    "\n",
    "#-------------------\n",
    "w2 = np.array([[1, 1]])\n",
    "b2 = np.array([[1]])\n",
    "\n",
    "z2 = np.matmul(w2, x1) + b2\n",
    "x2 = np.exp(0.1 * z2)\n",
    "\n",
    "for j in range(1):\n",
    "\n",
    "    #------------------------------------------------\n",
    "    # w2 atualização\n",
    "    #------------------------------------------------\n",
    "    t = [24, 20, 10]\n",
    "    delta2 = np.array([(x2[0][0]-t[0]) * (0.1 * x2[0][0])])\n",
    "    for i in range(1, 3):\n",
    "        n = ((x2[0][i]-t[i]) * (0.1 * x2[0][i]))\n",
    "        delta2 = np.column_stack((delta2, n))\n",
    "\n",
    "    dEdw2 = np.matmul(delta2, np.transpose(x1))\n",
    "    w2_atualizado = w2 - 0.1 * dEdw2\n",
    "\n",
    "    print(\"-------\\nw2: \\n\", w2_atualizado)\n",
    "\n",
    "    #------------------------------------------------\n",
    "    # b2 atualização\n",
    "    #------------------------------------------------\n",
    "    dEdb2 = np.matmul(delta2, [[1], [1], [1]])\n",
    "    b2_atualizado = b2 - 0.1 * dEdb2\n",
    "\n",
    "    print(\"-------\\nb2: \\n\", b2_atualizado)\n",
    "\n",
    "    #------------------------------------------------\n",
    "    # w1 atualização\n",
    "    #------------------------------------------------\n",
    "\n",
    "    delta1 = np.array(np.transpose(w2) * delta2[0][0] * (0.1 * x1[0][0]))\n",
    "    for i in range(1, 3):\n",
    "        n = (np.transpose(w2) * delta2[0][i] * (0.1 * x1[0][i]))\n",
    "        delta1 = np.column_stack((delta1, n))\n",
    "\n",
    "    dEdw1 = np.matmul(delta1, np.transpose(x0))\n",
    "\n",
    "    w1_atualizado = w1 - 0.1 * dEdw1\n",
    "\n",
    "    print(\"-------\\nw1: \\n\", w1_atualizado)\n",
    "\n",
    "    #------------------------------------------------\n",
    "    # b1 atualização\n",
    "    #------------------------------------------------\n",
    "    dEdb1 = np.matmul(delta1, [[1], [1], [1]])\n",
    "    b1_atualizado = b1 - 0.1 * dEdb1\n",
    "\n",
    "    print(\"-------\\nb1: \\n\", b1_atualizado)\n",
    "\n",
    "    #------------------------------------------------\n",
    "    #------------------------------------------------\n",
    "\n",
    "    z1_atualizado = np.matmul(w1_atualizado, x0) + b1_atualizado\n",
    "    x1_atualizado = np.exp(0.1 * z1_atualizado)\n",
    "    #-------------------\n",
    "    z2_atualizado = np.matmul(w2_atualizado, x1_atualizado) + b2_atualizado\n",
    "    x2_atualizado = np.exp(0.1 * z2_atualizado)\n",
    "\n",
    "    w1 = w1_atualizado\n",
    "    w2 = w2_atualizado\n",
    "    b1 = b1_atualizado\n",
    "    b2 = b2_atualizado\n",
    "    x1 = x1_atualizado\n",
    "    x2 = x2_atualizado\n",
    "\n",
    "#print(x2_atualizado)"
   ]
  }
 ],
 "metadata": {
  "kernelspec": {
   "display_name": "Python 3.8.6 64-bit",
   "language": "python",
   "name": "python3"
  },
  "language_info": {
   "codemirror_mode": {
    "name": "ipython",
    "version": 3
   },
   "file_extension": ".py",
   "mimetype": "text/x-python",
   "name": "python",
   "nbconvert_exporter": "python",
   "pygments_lexer": "ipython3",
   "version": "3.8.6"
  },
  "orig_nbformat": 4,
  "vscode": {
   "interpreter": {
    "hash": "aee8b7b246df8f9039afb4144a1f6fd8d2ca17a180786b69acc140d282b71a49"
   }
  }
 },
 "nbformat": 4,
 "nbformat_minor": 2
}
