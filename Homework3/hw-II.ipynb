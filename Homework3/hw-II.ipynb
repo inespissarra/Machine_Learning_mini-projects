{
 "cells": [
  {
   "cell_type": "code",
   "execution_count": 1,
   "metadata": {},
   "outputs": [],
   "source": [
    "import pandas as pd\n",
    "from scipy.io.arff import loadarff\n",
    "from sklearn.model_selection import train_test_split\n",
    "from sklearn import metrics\n",
    "import matplotlib.pyplot as plt\n",
    "\n",
    "from sklearn.linear_model import Ridge\n",
    "from sklearn.neural_network import MLPRegressor"
   ]
  },
  {
   "cell_type": "code",
   "execution_count": 2,
   "metadata": {},
   "outputs": [],
   "source": [
    "data = loadarff('kin8nm.arff')\n",
    "df = pd.DataFrame(data[0])\n",
    "\n",
    "target = df['y']\n",
    "\n",
    "df = df.drop('y', axis=1)"
   ]
  },
  {
   "cell_type": "code",
   "execution_count": 3,
   "metadata": {},
   "outputs": [],
   "source": [
    "x_train, x_test, y_train, y_test = train_test_split(df.values, target, test_size = 0.3, random_state=0)\n",
    "\n",
    "\n",
    "\n",
    "rr = Ridge(alpha=0.1)\n",
    "\n",
    "mlp1 = MLPRegressor(hidden_layer_sizes=(10,10), activation='tanh', random_state=0, max_iter=500, early_stopping=True)\n",
    "mlp2 = MLPRegressor(hidden_layer_sizes=(10,10), activation='tanh', random_state=0, max_iter=500, early_stopping=False)"
   ]
  },
  {
   "cell_type": "code",
   "execution_count": 4,
   "metadata": {},
   "outputs": [
    {
     "name": "stdout",
     "output_type": "stream",
     "text": [
      "MAE(Ridge):  0.162829976437694\n",
      "MAE(MPL1):  0.0680414073796843\n",
      "MAE(MPL2):  0.0978071820387748\n"
     ]
    }
   ],
   "source": [
    "#4\n",
    "rr.fit(x_train, y_train)\n",
    "mlp1.fit(x_train, y_train)\n",
    "mlp2.fit(x_train, y_train)\n",
    "\n",
    "y_pred_rr = rr.predict(x_test)\n",
    "y_pred_mlp1 = mlp1.predict(x_test)\n",
    "y_pred_mlp2 = mlp2.predict(x_test)\n",
    "\n",
    "print(\"MAE(Ridge): \", metrics.mean_absolute_error(y_test, y_pred_rr))\n",
    "print(\"MAE(MPL1): \", metrics.mean_absolute_error(y_test, y_pred_mlp1))\n",
    "print(\"MAE(MPL2): \", metrics.mean_absolute_error(y_test, y_pred_mlp2))\n"
   ]
  },
  {
   "cell_type": "code",
   "execution_count": 5,
   "metadata": {},
   "outputs": [
    {
     "data": {
      "image/png": "[encoded data removed]",
      "text/plain": [
       "<Figure size 360x360 with 1 Axes>"
      ]
     },
     "metadata": {
      "needs_background": "light"
     },
     "output_type": "display_data"
    }
   ],
   "source": [
    "#5.1\n",
    "plt.figure(figsize=(5, 5))\n",
    "boxplot = plt.boxplot([abs(y_test - y_pred_rr), abs(y_test - y_pred_mlp1), abs(y_test - y_pred_mlp2)], \\\n",
    "    labels=['Ridge', 'MLP1', 'MLP2'])"
   ]
  },
  {
   "cell_type": "code",
   "execution_count": 8,
   "metadata": {},
   "outputs": [
    {
     "data": {
      "text/plain": [
       "<matplotlib.legend.Legend at 0x7febc5ee9640>"
      ]
     },
     "execution_count": 8,
     "metadata": {},
     "output_type": "execute_result"
    },
    {
     "data": {
      "image/png": "[encoded data removed]",
      "text/plain": [
       "<Figure size 360x360 with 1 Axes>"
      ]
     },
     "metadata": {
      "needs_background": "light"
     },
     "output_type": "display_data"
    }
   ],
   "source": [
    "#5.2\n",
    "plt.figure(figsize=(5, 5))\n",
    "\n",
    "hist = plt.hist([abs(y_test - y_pred_rr), abs(y_test - y_pred_mlp1), abs(y_test - y_pred_mlp2)])\n",
    "plt.legend(labels=['Ridge', 'MLP1', 'MLP2'])\n"
   ]
  },
  {
   "cell_type": "code",
   "execution_count": 7,
   "metadata": {},
   "outputs": [
    {
     "name": "stdout",
     "output_type": "stream",
     "text": [
      "MLP1 iterations:  452\n",
      "MLP2 iterations:  77\n"
     ]
    }
   ],
   "source": [
    "# 6)\n",
    "print(\"MLP1 iterations: \", mlp1.n_iter_)\n",
    "print(\"MLP2 iterations: \", mlp2.n_iter_)"
   ]
  }
 ],
 "metadata": {
  "kernelspec": {
   "display_name": "Python 3.8.6 64-bit",
   "language": "python",
   "name": "python3"
  },
  "language_info": {
   "codemirror_mode": {
    "name": "ipython",
    "version": 3
   },
   "file_extension": ".py",
   "mimetype": "text/x-python",
   "name": "python",
   "nbconvert_exporter": "python",
   "pygments_lexer": "ipython3",
   "version": "3.8.6"
  },
  "orig_nbformat": 4,
  "vscode": {
   "interpreter": {
    "hash": "aee8b7b246df8f9039afb4144a1f6fd8d2ca17a180786b69acc140d282b71a49"
   }
  }
 },
 "nbformat": 4,
 "nbformat_minor": 2
}
