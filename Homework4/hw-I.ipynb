{
 "cells": [
  {
   "cell_type": "code",
   "execution_count": 7,
   "metadata": {},
   "outputs": [],
   "source": [
    "import numpy as np\n",
    "\n",
    "x1 = np.array([[1], [2]])\n",
    "x2 = np.array([[-1], [1]])\n",
    "x3 = np.array([[1], [0]])\n",
    "\n",
    "u1 = np.array([[2], [2]])\n",
    "u2 = np.array([[0], [0]])\n",
    "\n",
    "sigma1 = np.array([[2, 1], [1, 2]])\n",
    "sigma2 = np.array([[2, 0], [0, 2]])\n",
    "\n",
    "pi1 = 0.5\n",
    "pi2 = 0.5\n",
    "\n",
    "def gaussian(x, u, sigma):\n",
    "    return 1 / (2 * np.pi * np.sqrt(np.linalg.det(sigma))) * np.exp(-0.5 * (x - u).T @ np.linalg.inv(sigma) @ (x - u))"
   ]
  },
  {
   "cell_type": "code",
   "execution_count": 8,
   "metadata": {},
   "outputs": [],
   "source": [
    "# exercise 1\n",
    "\n",
    "#--------------------------------------------\n",
    "# E-step\n",
    "#--------------------------------------------\n",
    "# x1:\n",
    "\n",
    "p1 = pi1 * gaussian(x1, u1, sigma1)\n",
    "p2 = pi2 * gaussian(x1, u2, sigma2)\n",
    "\n",
    "p1_x1 = p1 / (p1 + p2)\n",
    "p2_x1 = p2 / (p1 + p2)\n",
    "# x2:\n",
    "\n",
    "p1 = pi1 * gaussian(x2, u1, sigma1)\n",
    "p2 = pi2 * gaussian(x2, u2, sigma2)\n",
    "\n",
    "p1_x2 = p1 / (p1 + p2)\n",
    "p2_x2 = p2 / (p1 + p2)\n",
    "\n",
    "# x3:\n",
    "\n",
    "p1 = pi1 * gaussian(x3, u1, sigma1)\n",
    "p2 = pi2 * gaussian(x3, u2, sigma2)\n",
    "\n",
    "p1_x3 = p1 / (p1 + p2)\n",
    "p2_x3 = p2 / (p1 + p2)"
   ]
  },
  {
   "cell_type": "code",
   "execution_count": 9,
   "metadata": {},
   "outputs": [
    {
     "name": "stdout",
     "output_type": "stream",
     "text": [
      "[[0.75096381]\n",
      " [1.31149108]]\n",
      "[[0.43605335 0.07757255]\n",
      " [0.07757255 0.77845521]]\n",
      "[[0.41718869]]\n",
      "[[0.03438459]\n",
      " [0.77702808]]\n",
      "[[ 0.9988177  -0.21530512]\n",
      " [-0.21530512  0.46747582]]\n",
      "[[0.58281131]]\n"
     ]
    }
   ],
   "source": [
    "# exercise 1 continued\n",
    "\n",
    "#--------------------------------------------\n",
    "# M-step\n",
    "#--------------------------------------------\n",
    "\n",
    "def recalculate_u(x1, x2, x3, p1, p2, p3):\n",
    "    return (p1 * x1 + p2 * x2 + p3 * x3)/(p1 + p2 + p3)\n",
    "\n",
    "def recalculate_sigma(x1, x2, x3, u, p1, p2, p3):\n",
    "    return (np.multiply((x1 - u), np.transpose(x1 - u)) * p1 + \\\n",
    "        np.multiply((x2 - u), np.transpose(x2 - u)) * p2 + \\\n",
    "        np.multiply((x3 - u), np.transpose(x3 - u)) * p3) / (p1 + p2 + p3)\n",
    "\n",
    "def recalculate_pi(p1, p2, p3):\n",
    "    return (p1 + p2 + p3) / 3\n",
    "\n",
    "# cluster 1:\n",
    "\n",
    "u1_new = recalculate_u(x1, x2, x3, p1_x1, p1_x2, p1_x3)\n",
    "\n",
    "sigma1_new = recalculate_sigma(x1, x2, x3, u1_new, p1_x1, p1_x2, p1_x3)\n",
    "\n",
    "pi1_new = recalculate_pi(p1_x1, p1_x2, p1_x3)\n",
    "\n",
    "print(u1_new)\n",
    "print(sigma1_new)\n",
    "print(pi1_new)\n",
    "\n",
    "\n",
    "# cluster 2:\n",
    "\n",
    "u2_new = recalculate_u(x1, x2, x3, p2_x1, p2_x2, p2_x3)\n",
    "\n",
    "sigma2_new = recalculate_sigma(x1, x2, x3, u2_new, p2_x1, p2_x2, p2_x3)\n",
    "\n",
    "pi2_new = recalculate_pi(p2_x1, p2_x2, p2_x3)\n",
    "\n",
    "print(u2_new)\n",
    "print(sigma2_new)\n",
    "print(pi2_new)\n"
   ]
  },
  {
   "cell_type": "code",
   "execution_count": 10,
   "metadata": {},
   "outputs": [
    {
     "name": "stdout",
     "output_type": "stream",
     "text": [
      "weight of cluster 1 for x1:  [[0.91198316]]\n",
      "weight of cluster 2 for x1:  [[0.08801684]]\n",
      "weight of cluster 1 for x2:  [[0.03923683]]\n",
      "weight of cluster 2 for x2:  [[0.96076317]]\n",
      "weight of cluster 1 for x3:  [[0.3451861]]\n",
      "weight of cluster 2 for x3:  [[0.6548139]]\n"
     ]
    }
   ],
   "source": [
    "# exercise 2\n",
    "# a)\n",
    "\n",
    "# x1:\n",
    "\n",
    "p1 = pi1_new * gaussian(x1, u1_new, sigma1_new) # 0.08164192\n",
    "p2 = pi2_new * gaussian(x1, u2_new, sigma2_new) # 0.00787938\n",
    "\n",
    "p1_norm = p1 / (p1 + p2) # 0.91198316 !!!! c1\n",
    "p2_norm = p2 / (p1 + p2) # 0.08801684\n",
    "\n",
    "print(\"weight of cluster 1 for x1: \", p1_norm)\n",
    "print(\"weight of cluster 2 for x1: \", p2_norm)\n",
    "\n",
    "# x2:\n",
    "\n",
    "p1 = pi1_new * gaussian(x2, u1_new, sigma1_new) # 0.00341898\n",
    "p2 = pi2_new * gaussian(x2, u2_new, sigma2_new) # 0.08371795\n",
    "\n",
    "p1_norm = p1 / (p1 + p2) # 0.03923683\n",
    "p2_norm = p2 / (p1 + p2) # 0.96076317 !!!! c2\n",
    "\n",
    "print(\"weight of cluster 1 for x2: \", p1_norm)\n",
    "print(\"weight of cluster 2 for x2: \", p2_norm)\n",
    "\n",
    "# x3:\n",
    "\n",
    "p1 = pi1_new * gaussian(x3, u1_new, sigma1_new) # 0.03219282\n",
    "p2 = pi2_new * gaussian(x3, u2_new, sigma2_new) # 0.06106939\n",
    "\n",
    "p1_norm = p1 / (p1 + p2) # 0.3451861\n",
    "p2_norm = p2 / (p1 + p2) # 0.6548139 !!!! c2\n",
    "\n",
    "print(\"weight of cluster 1 for x3: \", p1_norm)\n",
    "print(\"weight of cluster 2 for x3: \", p2_norm)"
   ]
  },
  {
   "cell_type": "code",
   "execution_count": 11,
   "metadata": {},
   "outputs": [
    {
     "name": "stdout",
     "output_type": "stream",
     "text": [
      "x2: 0.0\n",
      "x3: -0.10557280900008414\n",
      "c2: -0.05278640450004207\n"
     ]
    }
   ],
   "source": [
    "# exercise 2\n",
    "\n",
    "# b)\n",
    "\n",
    "def euclidean_distance(x1, x2):\n",
    "    return np.sqrt(np.sum(np.square(x1 - x2)))\n",
    "\n",
    "silhouette_x2 = 1 - euclidean_distance(x2, x3) / euclidean_distance(x2, x1) # bc a < b -> 1 - a/b\n",
    "silhouette_x3 = euclidean_distance(x3, x1)/euclidean_distance(x3, x2) - 1 # bc a > b -> b/a - 1\n",
    "\n",
    "silhouette_c2 = (silhouette_x2 + silhouette_x3) / 2\n",
    "\n",
    "print(\"x2:\", silhouette_x2)\n",
    "print(\"x3:\", silhouette_x3)\n",
    "print(\"c2:\", silhouette_c2)\n"
   ]
  }
 ],
 "metadata": {
  "kernelspec": {
   "display_name": "Python 3.8.6 64-bit",
   "language": "python",
   "name": "python3"
  },
  "language_info": {
   "codemirror_mode": {
    "name": "ipython",
    "version": 3
   },
   "file_extension": ".py",
   "mimetype": "text/x-python",
   "name": "python",
   "nbconvert_exporter": "python",
   "pygments_lexer": "ipython3",
   "version": "3.8.6"
  },
  "orig_nbformat": 4,
  "vscode": {
   "interpreter": {
    "hash": "aee8b7b246df8f9039afb4144a1f6fd8d2ca17a180786b69acc140d282b71a49"
   }
  }
 },
 "nbformat": 4,
 "nbformat_minor": 2
}
